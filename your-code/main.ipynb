{
 "cells": [
  {
   "cell_type": "markdown",
   "metadata": {},
   "source": [
    "# Intrduction to NumPy\n",
    "\n",
    "\n",
    "#### 1. Import NumPy under the name np."
   ]
  },
  {
   "cell_type": "code",
   "execution_count": 40,
   "metadata": {},
   "outputs": [],
   "source": [
    "# your code here\n",
    "import numpy as np"
   ]
  },
  {
   "cell_type": "markdown",
   "metadata": {},
   "source": [
    "#### 2. Print your NumPy version."
   ]
  },
  {
   "cell_type": "code",
   "execution_count": 41,
   "metadata": {},
   "outputs": [
    {
     "name": "stdout",
     "output_type": "stream",
     "text": [
      "1.21.5\n"
     ]
    }
   ],
   "source": [
    "# your code here\n",
    "print(np.__version__)"
   ]
  },
  {
   "cell_type": "markdown",
   "metadata": {},
   "source": [
    "#### 3. Generate a 2x3x5 3-dimensional array with random values. Assign the array to variable *a*.\n",
    "**Challenge**: there are at least three easy ways that use numpy to generate random arrays. How many ways can you find?"
   ]
  },
  {
   "cell_type": "code",
   "execution_count": 42,
   "metadata": {},
   "outputs": [
    {
     "name": "stdout",
     "output_type": "stream",
     "text": [
      "[[[0.63475785 0.07023346 0.89769226 0.18872305 0.52734128]\n",
      "  [0.42214279 0.1255481  0.7494775  0.92450562 0.74191894]\n",
      "  [0.59677739 0.52094622 0.03568333 0.7515987  0.48764261]]\n",
      "\n",
      " [[0.16855153 0.54065334 0.81485219 0.71136769 0.26171642]\n",
      "  [0.83101237 0.53026104 0.5640824  0.54862905 0.3396111 ]\n",
      "  [0.3973555  0.51678714 0.28178826 0.84288815 0.41775809]]]\n"
     ]
    }
   ],
   "source": [
    "# Method 1\n",
    "a = np.random.random((2,3,5))\n",
    "print(a)"
   ]
  },
  {
   "cell_type": "code",
   "execution_count": 43,
   "metadata": {},
   "outputs": [
    {
     "name": "stdout",
     "output_type": "stream",
     "text": [
      "[[[0.77853671 0.54376183 0.50790989 0.52955968 0.62765371]\n",
      "  [0.41937002 0.79115428 0.57621345 0.13286514 0.43089293]\n",
      "  [0.54909533 0.5206272  0.91595043 0.38834749 0.27508427]]\n",
      "\n",
      " [[0.98383885 0.68151321 0.16838764 0.15375594 0.77614466]\n",
      "  [0.87511026 0.36214429 0.41571778 0.77227912 0.36389367]\n",
      "  [0.85378279 0.79799634 0.76141869 0.93383989 0.09077881]]]\n"
     ]
    }
   ],
   "source": [
    "# Method 2\n",
    "b = np.random.random((3,5,2))\n",
    "b\n",
    "a1 = b.reshape(2,3,5)\n",
    "print(a1)"
   ]
  },
  {
   "cell_type": "code",
   "execution_count": 44,
   "metadata": {},
   "outputs": [
    {
     "name": "stdout",
     "output_type": "stream",
     "text": [
      "[array([[0.51207424, 0.08450342, 0.79957011, 0.29532223, 0.49888214],\n",
      "       [0.08269897, 0.89506592, 0.22688061, 0.43150162, 0.51841886],\n",
      "       [0.41548272, 0.17159028, 0.78754198, 0.4204652 , 0.55675119]]), array([[0.75389495, 0.61333689, 0.68612341, 0.86791207, 0.46245492],\n",
      "       [0.97143763, 0.65369454, 0.72027341, 0.80474816, 0.90599076],\n",
      "       [0.2827842 , 0.98906116, 0.66761988, 0.46506845, 0.86515535]])]\n"
     ]
    }
   ],
   "source": [
    "# Method 3\n",
    "a2= []\n",
    "for i in range(2):\n",
    "    a2.append(np.random.random((3,5)))\n",
    "print(a2)"
   ]
  },
  {
   "cell_type": "markdown",
   "metadata": {},
   "source": [
    "#### 4. Print *a*.\n"
   ]
  },
  {
   "cell_type": "code",
   "execution_count": 45,
   "metadata": {},
   "outputs": [
    {
     "name": "stdout",
     "output_type": "stream",
     "text": [
      "[[[0.63475785 0.07023346 0.89769226 0.18872305 0.52734128]\n",
      "  [0.42214279 0.1255481  0.7494775  0.92450562 0.74191894]\n",
      "  [0.59677739 0.52094622 0.03568333 0.7515987  0.48764261]]\n",
      "\n",
      " [[0.16855153 0.54065334 0.81485219 0.71136769 0.26171642]\n",
      "  [0.83101237 0.53026104 0.5640824  0.54862905 0.3396111 ]\n",
      "  [0.3973555  0.51678714 0.28178826 0.84288815 0.41775809]]]\n"
     ]
    }
   ],
   "source": [
    "# your code here\n",
    "print(a)"
   ]
  },
  {
   "cell_type": "markdown",
   "metadata": {},
   "source": [
    "#### 5. Create a 5x2x3 3-dimensional array with all values equaling 1. Assign the array to variable *b*."
   ]
  },
  {
   "cell_type": "code",
   "execution_count": 46,
   "metadata": {},
   "outputs": [],
   "source": [
    "# your code here\n",
    "b= np.ones([5,2,3], dtype=int)"
   ]
  },
  {
   "cell_type": "markdown",
   "metadata": {},
   "source": [
    "#### 6. Print *b*.\n"
   ]
  },
  {
   "cell_type": "code",
   "execution_count": 47,
   "metadata": {},
   "outputs": [
    {
     "name": "stdout",
     "output_type": "stream",
     "text": [
      "[[[1 1 1]\n",
      "  [1 1 1]]\n",
      "\n",
      " [[1 1 1]\n",
      "  [1 1 1]]\n",
      "\n",
      " [[1 1 1]\n",
      "  [1 1 1]]\n",
      "\n",
      " [[1 1 1]\n",
      "  [1 1 1]]\n",
      "\n",
      " [[1 1 1]\n",
      "  [1 1 1]]]\n"
     ]
    }
   ],
   "source": [
    "# your code here\n",
    "print(b)"
   ]
  },
  {
   "cell_type": "markdown",
   "metadata": {},
   "source": [
    "#### 7. Do *a* and *b* have the same size? How do you prove that in Python code?"
   ]
  },
  {
   "cell_type": "code",
   "execution_count": 48,
   "metadata": {},
   "outputs": [
    {
     "name": "stdout",
     "output_type": "stream",
     "text": [
      "a and b have the same size\n"
     ]
    }
   ],
   "source": [
    "# your code here\n",
    "a_size=a.size\n",
    "b_size=b.size\n",
    "\n",
    "if a_size == b_size:\n",
    "    print(\"a and b have the same size\")"
   ]
  },
  {
   "cell_type": "markdown",
   "metadata": {},
   "source": [
    "#### 8. Are you able to add *a* and *b*? Why or why not?\n"
   ]
  },
  {
   "cell_type": "code",
   "execution_count": 49,
   "metadata": {},
   "outputs": [
    {
     "name": "stdout",
     "output_type": "stream",
     "text": [
      "(2, 3, 5) (5, 2, 3)\n",
      "It's not possible to sum the tables because they don't have the same shape\n"
     ]
    }
   ],
   "source": [
    "# your answer here\n",
    "a_shape=a.shape\n",
    "b_shape=b.shape\n",
    "\n",
    "print(a_shape,b_shape)\n",
    "\n",
    "if a_shape == b_shape:\n",
    "    print(\"It's possible to sum the tables if they have the same shape\")\n",
    "else:\n",
    "    print(\"It's not possible to sum the tables because they don't have the same shape\")"
   ]
  },
  {
   "cell_type": "markdown",
   "metadata": {},
   "source": [
    "#### 9. Transpose *b* so that it has the same structure of *a* (i.e. become a 2x3x5 array). Assign the transposed array to variable *c*."
   ]
  },
  {
   "cell_type": "code",
   "execution_count": 60,
   "metadata": {},
   "outputs": [
    {
     "name": "stdout",
     "output_type": "stream",
     "text": [
      "[[[1 1 1 1 1]\n",
      "  [1 1 1 1 1]\n",
      "  [1 1 1 1 1]]\n",
      "\n",
      " [[1 1 1 1 1]\n",
      "  [1 1 1 1 1]\n",
      "  [1 1 1 1 1]]]\n"
     ]
    }
   ],
   "source": [
    "# your code here\n",
    "c= b.transpose((1,2,0))\n",
    "print(c)"
   ]
  },
  {
   "cell_type": "markdown",
   "metadata": {},
   "source": [
    "#### 10. Try to add *a* and *c*. Now it should work. Assign the sum to variable *d*. But why does it work now?"
   ]
  },
  {
   "cell_type": "code",
   "execution_count": 61,
   "metadata": {},
   "outputs": [
    {
     "name": "stdout",
     "output_type": "stream",
     "text": [
      "[[[1.63475785 1.07023346 1.89769226 1.18872305 1.52734128]\n",
      "  [1.42214279 1.1255481  1.7494775  1.92450562 1.74191894]\n",
      "  [1.59677739 1.52094622 1.03568333 1.7515987  1.48764261]]\n",
      "\n",
      " [[1.16855153 1.54065334 1.81485219 1.71136769 1.26171642]\n",
      "  [1.83101237 1.53026104 1.5640824  1.54862905 1.3396111 ]\n",
      "  [1.3973555  1.51678714 1.28178826 1.84288815 1.41775809]]]\n",
      "It words because the two tables now have the same shape\n"
     ]
    }
   ],
   "source": [
    "# your code/answer here\n",
    "d= a+c\n",
    "print(d)\n",
    "print(\"It words because the two tables now have the same shape\")"
   ]
  },
  {
   "cell_type": "markdown",
   "metadata": {},
   "source": [
    "#### 11. Print *a* and *d*. Notice the difference and relation of the two array in terms of the values? Explain."
   ]
  },
  {
   "cell_type": "code",
   "execution_count": 62,
   "metadata": {},
   "outputs": [
    {
     "name": "stdout",
     "output_type": "stream",
     "text": [
      "[[[0.63475785 0.07023346 0.89769226 0.18872305 0.52734128]\n",
      "  [0.42214279 0.1255481  0.7494775  0.92450562 0.74191894]\n",
      "  [0.59677739 0.52094622 0.03568333 0.7515987  0.48764261]]\n",
      "\n",
      " [[0.16855153 0.54065334 0.81485219 0.71136769 0.26171642]\n",
      "  [0.83101237 0.53026104 0.5640824  0.54862905 0.3396111 ]\n",
      "  [0.3973555  0.51678714 0.28178826 0.84288815 0.41775809]]]\n",
      "[[[1.63475785 1.07023346 1.89769226 1.18872305 1.52734128]\n",
      "  [1.42214279 1.1255481  1.7494775  1.92450562 1.74191894]\n",
      "  [1.59677739 1.52094622 1.03568333 1.7515987  1.48764261]]\n",
      "\n",
      " [[1.16855153 1.54065334 1.81485219 1.71136769 1.26171642]\n",
      "  [1.83101237 1.53026104 1.5640824  1.54862905 1.3396111 ]\n",
      "  [1.3973555  1.51678714 1.28178826 1.84288815 1.41775809]]]\n",
      "True\n",
      "True\n",
      "d has the same shape as a and c, and each value is the sum of the values in the same position in array a and c\n"
     ]
    }
   ],
   "source": [
    "# your code/answer here\n",
    "print(a)\n",
    "print(d)\n",
    "print(d[0, 0, 0] == (a[0, 0, 0]+c[0, 0, 0]))\n",
    "print(d.shape == a.shape == c.shape)\n",
    "print(\"d has the same shape as a and c, and each value is the sum of the values in the same position in array a and c\")"
   ]
  },
  {
   "cell_type": "markdown",
   "metadata": {},
   "source": [
    "#### 12. Multiply *a* and *c*. Assign the result to *e*."
   ]
  },
  {
   "cell_type": "code",
   "execution_count": 63,
   "metadata": {},
   "outputs": [
    {
     "name": "stdout",
     "output_type": "stream",
     "text": [
      "[[[0.63475785 0.07023346 0.89769226 0.18872305 0.52734128]\n",
      "  [0.42214279 0.1255481  0.7494775  0.92450562 0.74191894]\n",
      "  [0.59677739 0.52094622 0.03568333 0.7515987  0.48764261]]\n",
      "\n",
      " [[0.16855153 0.54065334 0.81485219 0.71136769 0.26171642]\n",
      "  [0.83101237 0.53026104 0.5640824  0.54862905 0.3396111 ]\n",
      "  [0.3973555  0.51678714 0.28178826 0.84288815 0.41775809]]]\n"
     ]
    }
   ],
   "source": [
    "# your code here\n",
    "e = a*c\n",
    "print(e)"
   ]
  },
  {
   "cell_type": "markdown",
   "metadata": {},
   "source": [
    "#### 13. Does *e* equal to *a*? Why or why not?\n"
   ]
  },
  {
   "cell_type": "code",
   "execution_count": 64,
   "metadata": {},
   "outputs": [
    {
     "name": "stdout",
     "output_type": "stream",
     "text": [
      "a and e have the same shape\n",
      "a and e have the same size\n",
      "a can only be multiplied with an array of the same shape, hence giving an array with the same shape as well\n"
     ]
    }
   ],
   "source": [
    "# your code/answer here\n",
    "e_shape= e.shape\n",
    "e_size= e.size\n",
    "\n",
    "a_shape= a.shape\n",
    "a_size= a.size\n",
    "\n",
    "if e_shape == a_shape:\n",
    "    print(\"a and e have the same shape\")\n",
    "else: \n",
    "        print(\"a and e have different shapes\")\n",
    "\n",
    "if e_size == a_size:\n",
    "    print(\"a and e have the same size\")\n",
    "else: \n",
    "        print(\"a and e have different sizes\")\n",
    "\n",
    "print(\"a can only be multiplied with an array of the same shape, hence giving an array with the same shape as well\")\n"
   ]
  },
  {
   "cell_type": "markdown",
   "metadata": {},
   "source": [
    "#### 14. Identify the max, min, and mean values in *d*. Assign those values to variables *d_max*, *d_min* and *d_mean*."
   ]
  },
  {
   "cell_type": "code",
   "execution_count": 65,
   "metadata": {},
   "outputs": [
    {
     "name": "stdout",
     "output_type": "stream",
     "text": [
      "1.9245056159994083 1.0356833264061782 1.5147434450358062\n"
     ]
    }
   ],
   "source": [
    "# your code here\n",
    "d_max = d.max()\n",
    "d_min = d.min()\n",
    "d_mean = d.mean()\n",
    "print(d_max, d_min, d_mean)"
   ]
  },
  {
   "cell_type": "markdown",
   "metadata": {},
   "source": [
    "#### 15. Now we want to label the values in *d*. First create an empty array *f* with the same shape (i.e. 2x3x5) as *d* using `np.empty`.\n"
   ]
  },
  {
   "cell_type": "code",
   "execution_count": 66,
   "metadata": {},
   "outputs": [
    {
     "name": "stdout",
     "output_type": "stream",
     "text": [
      "[[[0.63475785 0.07023346 0.89769226 0.18872305 0.52734128]\n",
      "  [0.42214279 0.1255481  0.7494775  0.92450562 0.74191894]\n",
      "  [0.59677739 0.52094622 0.03568333 0.7515987  0.48764261]]\n",
      "\n",
      " [[0.16855153 0.54065334 0.81485219 0.71136769 0.26171642]\n",
      "  [0.83101237 0.53026104 0.5640824  0.54862905 0.3396111 ]\n",
      "  [0.3973555  0.51678714 0.28178826 0.84288815 0.41775809]]]\n"
     ]
    }
   ],
   "source": [
    "# your code here\n",
    "f = np.empty(shape = d.shape, dtype=float)\n",
    "print(f)"
   ]
  },
  {
   "cell_type": "markdown",
   "metadata": {},
   "source": [
    "#### 16. Populate the values in *f*. \n",
    "\n",
    "For each value in *d*, if it's larger than *d_min* but smaller than *d_mean*, assign 25 to the corresponding value in *f*. If a value in *d* is larger than *d_mean* but smaller than *d_max*, assign 75 to the corresponding value in *f*. If a value equals to *d_mean*, assign 50 to the corresponding value in *f*. Assign 0 to the corresponding value(s) in *f* for *d_min* in *d*. Assign 100 to the corresponding value(s) in *f* for *d_max* in *d*. In the end, f should have only the following values: 0, 25, 50, 75, and 100.\n",
    "\n",
    "**Note**: you don't have to use Numpy in this question."
   ]
  },
  {
   "cell_type": "code",
   "execution_count": 73,
   "metadata": {},
   "outputs": [
    {
     "name": "stdout",
     "output_type": "stream",
     "text": [
      "(2, 3, 5)\n"
     ]
    },
    {
     "data": {
      "text/plain": [
       "array([[[ 75.,  25.,  75.,  25.,  75.],\n",
       "        [ 25.,  25.,  75., 100.,  75.],\n",
       "        [ 75.,  75.,   0.,  75.,  25.]],\n",
       "\n",
       "       [[ 25.,  75.,  75.,  75.,  25.],\n",
       "        [ 75.,  75.,  75.,  75.,  25.],\n",
       "        [ 25.,  75.,  25.,  75.,  25.]]])"
      ]
     },
     "execution_count": 73,
     "metadata": {},
     "output_type": "execute_result"
    }
   ],
   "source": [
    "# your code here\n",
    "#My responde for my array d\n",
    "shape= d.shape\n",
    "print(shape)\n",
    "\n",
    "for g in range(0,shape[0]):\n",
    "    for l in range (0,shape[1]):\n",
    "        for e in range (0,shape[2]):\n",
    "            if d[g,l,e] > d_min and d[g,l,e] < d_mean:\n",
    "                f[g,l,e] = 25\n",
    "            elif d[g,l,e] > d_mean and d[g,l,e] < d_max:\n",
    "                f[g,l,e] = 75\n",
    "            elif d[g,l,e] == d_mean:\n",
    "                f[g,l,e] = 50\n",
    "            elif d[g,l,e] == d_min:\n",
    "                f[g,l,e] = 0\n",
    "            else:\n",
    "                f[g,l,e] = 100\n",
    "f        "
   ]
  },
  {
   "cell_type": "code",
   "execution_count": 70,
   "metadata": {},
   "outputs": [
    {
     "name": "stdout",
     "output_type": "stream",
     "text": [
      "(2, 3, 5)\n"
     ]
    },
    {
     "data": {
      "text/plain": [
       "array([[[ 75.,  75.,  75.,  25.,  75.],\n",
       "        [ 75.,  75.,  25.,  25.,  25.],\n",
       "        [ 75.,  25.,  75.,  75.,  75.]],\n",
       "\n",
       "       [[ 25.,  25.,  25.,  25., 100.],\n",
       "        [ 75.,  75.,  75.,  75.,  75.],\n",
       "        [ 25.,  75.,   0.,  75.,  75.]]])"
      ]
     },
     "execution_count": 70,
     "metadata": {},
     "output_type": "execute_result"
    }
   ],
   "source": [
    "#my test code using the example bellow\n",
    "teste = np.array([[[1.85836099, 1.67064465, 1.62576044, 1.40243961, 1.88454931],\n",
    "[1.75354326, 1.69403643, 1.36729252, 1.61415071, 1.12104981],\n",
    "[1.72201435, 1.1862918 , 1.87078449, 1.7726778 , 1.88180042]],\n",
    "[[1.44747908, 1.31673383, 1.02000951, 1.52218947, 1.97066381],\n",
    "[1.79129243, 1.74983003, 1.96028037, 1.85166831, 1.65450881],\n",
    "[1.18068344, 1.9587381 , 1.00656599, 1.93402165, 1.73514584]]])\n",
    "\n",
    "shape= teste.shape\n",
    "print(shape)\n",
    "\n",
    "for g in range(0,shape[0]):\n",
    "    for l in range (0,shape[1]):\n",
    "        for e in range (0,shape[2]):\n",
    "            if teste[g,l,e] > teste.min() and teste[g,l,e] < teste.mean():\n",
    "                f[g,l,e] = 25\n",
    "            elif teste[g,l,e] > teste.mean() and teste[g,l,e] < teste.max():\n",
    "                f[g,l,e] = 75\n",
    "            elif teste[g,l,e] == teste.mean():\n",
    "                f[g,l,e] = 50\n",
    "            elif teste[g,l,e] == teste.min():\n",
    "                f[g,l,e] = 0\n",
    "            else:\n",
    "                f[g,l,e] = 100\n",
    "f   "
   ]
  },
  {
   "cell_type": "markdown",
   "metadata": {},
   "source": [
    "#### 17. Print *d* and *f*. Do you have your expected *f*?\n",
    "For instance, if your *d* is:\n",
    "```python\n",
    "[[[1.85836099, 1.67064465, 1.62576044, 1.40243961, 1.88454931],\n",
    "[1.75354326, 1.69403643, 1.36729252, 1.61415071, 1.12104981],\n",
    "[1.72201435, 1.1862918 , 1.87078449, 1.7726778 , 1.88180042]],\n",
    "[[1.44747908, 1.31673383, 1.02000951, 1.52218947, 1.97066381],\n",
    "[1.79129243, 1.74983003, 1.96028037, 1.85166831, 1.65450881],\n",
    "[1.18068344, 1.9587381 , 1.00656599, 1.93402165, 1.73514584]]]\n",
    "```\n",
    "Your *f* should be:\n",
    "```python\n",
    "[[[ 75.,  75.,  75.,  25.,  75.],\n",
    "[ 75.,  75.,  25.,  25.,  25.],\n",
    "[ 75.,  25.,  75.,  75.,  75.]],\n",
    "[[ 25.,  25.,  25.,  25., 100.],\n",
    "[ 75.,  75.,  75.,  75.,  75.],\n",
    "[ 25.,  75.,   0.,  75.,  75.]]]\n",
    "```"
   ]
  },
  {
   "cell_type": "code",
   "execution_count": 74,
   "metadata": {},
   "outputs": [
    {
     "name": "stdout",
     "output_type": "stream",
     "text": [
      "[[[1.63475785 1.07023346 1.89769226 1.18872305 1.52734128]\n",
      "  [1.42214279 1.1255481  1.7494775  1.92450562 1.74191894]\n",
      "  [1.59677739 1.52094622 1.03568333 1.7515987  1.48764261]]\n",
      "\n",
      " [[1.16855153 1.54065334 1.81485219 1.71136769 1.26171642]\n",
      "  [1.83101237 1.53026104 1.5640824  1.54862905 1.3396111 ]\n",
      "  [1.3973555  1.51678714 1.28178826 1.84288815 1.41775809]]]\n",
      "[[[ 75.  25.  75.  25.  75.]\n",
      "  [ 25.  25.  75. 100.  75.]\n",
      "  [ 75.  75.   0.  75.  25.]]\n",
      "\n",
      " [[ 25.  75.  75.  75.  25.]\n",
      "  [ 75.  75.  75.  75.  25.]\n",
      "  [ 25.  75.  25.  75.  25.]]]\n"
     ]
    }
   ],
   "source": [
    "# your code here\n",
    "print(d)\n",
    "print(f)"
   ]
  },
  {
   "cell_type": "markdown",
   "metadata": {},
   "source": [
    "#### 18. Bonus question: instead of using numbers (i.e. 0, 25, 50, 75, and 100), use string values  (\"A\", \"B\", \"C\", \"D\", and \"E\") to label the array elements. For the example above, the expected result is:\n",
    "\n",
    "```python\n",
    "[[[ 'D',  'D',  'D',  'B',  'D'],\n",
    "[ 'D',  'D',  'B',  'B',  'B'],\n",
    "[ 'D',  'B',  'D',  'D',  'D']],\n",
    "[[ 'B',  'B',  'B',  'B',  'E'],\n",
    "[ 'D',  'D',  'D',  'D',  'D'],\n",
    "[ 'B',  'D',   'A',  'D', 'D']]]\n",
    "```\n",
    "**Note**: you don't have to use Numpy in this question."
   ]
  },
  {
   "cell_type": "code",
   "execution_count": 81,
   "metadata": {},
   "outputs": [
    {
     "name": "stdout",
     "output_type": "stream",
     "text": [
      "(2, 3, 5)\n"
     ]
    },
    {
     "data": {
      "text/plain": [
       "array([[['D', 'D', 'D', 'B', 'D'],\n",
       "        ['D', 'D', 'B', 'B', 'B'],\n",
       "        ['D', 'B', 'D', 'D', 'D']],\n",
       "\n",
       "       [['B', 'B', 'B', 'B', 'E'],\n",
       "        ['D', 'D', 'D', 'D', 'D'],\n",
       "        ['B', 'D', 'A', 'D', 'D']]], dtype='<U1')"
      ]
     },
     "execution_count": 81,
     "metadata": {},
     "output_type": "execute_result"
    }
   ],
   "source": [
    "# your code here\n",
    "#my test code using the example bellow\n",
    "teste = np.array([[[1.85836099, 1.67064465, 1.62576044, 1.40243961, 1.88454931],\n",
    "[1.75354326, 1.69403643, 1.36729252, 1.61415071, 1.12104981],\n",
    "[1.72201435, 1.1862918 , 1.87078449, 1.7726778 , 1.88180042]],\n",
    "[[1.44747908, 1.31673383, 1.02000951, 1.52218947, 1.97066381],\n",
    "[1.79129243, 1.74983003, 1.96028037, 1.85166831, 1.65450881],\n",
    "[1.18068344, 1.9587381 , 1.00656599, 1.93402165, 1.73514584]]])\n",
    "\n",
    "letter = np.empty(shape = teste.shape, dtype=str)\n",
    "shape= teste.shape\n",
    "print(shape)\n",
    "\n",
    "for g in range(0,shape[0]):\n",
    "    for l in range (0,shape[1]):\n",
    "        for e in range (0,shape[2]):\n",
    "            if teste[g,l,e] > teste.min() and teste[g,l,e] < teste.mean():\n",
    "                letter[g,l,e] = \"B\"\n",
    "            elif teste[g,l,e] > teste.mean() and teste[g,l,e] < teste.max():\n",
    "                letter[g,l,e] = \"D\"\n",
    "            elif teste[g,l,e] == teste.mean():\n",
    "                letter[g,l,e] = \"C\"\n",
    "            elif teste[g,l,e] == teste.min():\n",
    "                letter[g,l,e] = \"A\"\n",
    "            else:\n",
    "                letter[g,l,e] = \"E\"\n",
    "letter"
   ]
  }
 ],
 "metadata": {
  "kernelspec": {
   "display_name": "Python 3 (ipykernel)",
   "language": "python",
   "name": "python3"
  },
  "language_info": {
   "codemirror_mode": {
    "name": "ipython",
    "version": 3
   },
   "file_extension": ".py",
   "mimetype": "text/x-python",
   "name": "python",
   "nbconvert_exporter": "python",
   "pygments_lexer": "ipython3",
   "version": "3.9.13"
  }
 },
 "nbformat": 4,
 "nbformat_minor": 2
}
